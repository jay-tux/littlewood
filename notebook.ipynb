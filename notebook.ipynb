{
 "cells": [
  {
   "cell_type": "code",
   "execution_count": 5,
   "id": "passive-northern",
   "metadata": {},
   "outputs": [
    {
     "name": "stdout",
     "output_type": "stream",
     "text": [
      "[1.1749939972743841, -1.039810713263122 - 0.7006580731281623*I, -1.039810713263122 + 0.7006580731281623*I, 0.05338777414286551 - 0.7473087446575949*I, 0.05338777414286551 + 0.7473087446575949*I]\n"
     ]
    },
    {
     "data": {
      "image/png": "[encoded data removed]",
      "text/plain": [
       "Graphics object consisting of 1 graphics primitive"
      ]
     },
     "execution_count": 5,
     "metadata": {},
     "output_type": "execute_result"
    }
   ],
   "source": [
    "P.<x> = RDF[]\n",
    "p = P.random_element(5)\n",
    "print(p.roots(ring=CDF, multiplicities=False))\n",
    "plot(p, -2, 2)"
   ]
  },
  {
   "cell_type": "code",
   "execution_count": 3,
   "id": "deluxe-handle",
   "metadata": {},
   "outputs": [],
   "source": [
    "def test_solve(func, poly, margin=1e-15, ring=RDF):\n",
    "    try:\n",
    "        sol = func(poly, ring)\n",
    "    except(ValueError):\n",
    "        return (True, 0)\n",
    "    for ans in sol:\n",
    "        a = abs(poly(ans))\n",
    "        if a > margin:\n",
    "            return (False, ans)\n",
    "    return (True, -1)\n",
    "\n",
    "def multitest_solve(func, degree=5, samples=10000, margin=1e-15):\n",
    "    #P.<x> = RDF[]\n",
    "    P.<x> = RealField(100)[]\n",
    "    errors = 0\n",
    "    skipped = 0\n",
    "    for i in range(samples):\n",
    "        p = P.random_element(degree)\n",
    "        (res, err) = test_solve(func, p, margin, RealField(100))\n",
    "        if res == False:\n",
    "            errors += 1\n",
    "        if res == True and err == 0:\n",
    "            skipped += 1\n",
    "    print(\"Ran \", samples - skipped, \" tests for polynomials of degree \", degree, \"(\", skipped, \" skipped); \", errors, \" solutions outside of margin \", margin)"
   ]
  },
  {
   "cell_type": "markdown",
   "id": "martial-airfare",
   "metadata": {},
   "source": [
    "# Solve using companion matrix"
   ]
  },
  {
   "cell_type": "code",
   "execution_count": 1,
   "id": "perceived-taste",
   "metadata": {},
   "outputs": [],
   "source": [
    "def monicize(poly, ring=RDF):\n",
    "    tring.<x> = ring[]\n",
    "    c = (poly / poly.coefficients()[-1]).coefficients()\n",
    "    c[-1] = ring(1)\n",
    "    return tring(c)\n",
    "\n",
    "def companion_solve(poly, ring=RDF):\n",
    "    mat = companion_matrix(monicize(poly, ring))\n",
    "    solutions = mat.eigenvalues()\n",
    "    return solutions"
   ]
  },
  {
   "cell_type": "code",
   "execution_count": 13,
   "id": "rational-title",
   "metadata": {},
   "outputs": [
    {
     "name": "stderr",
     "output_type": "stream",
     "text": [
      "<ipython-input-12-93578fbd482f>:9: UserWarning: Using generic algorithm for an inexact ring, which will probably give incorrect results due to numerical precision issues.\n",
      "  solutions = mat.eigenvalues()\n"
     ]
    },
    {
     "name": "stdout",
     "output_type": "stream",
     "text": [
      "Ran  10000  tests for polynomials of degree  2 ( 0  skipped);  0  solutions outside of margin  1.00000000000000e-15\n",
      "Ran  10000  tests for polynomials of degree  3 ( 0  skipped);  0  solutions outside of margin  1.00000000000000e-15\n",
      "Ran  10000  tests for polynomials of degree  4 ( 0  skipped);  0  solutions outside of margin  1.00000000000000e-15\n",
      "Ran  10000  tests for polynomials of degree  5 ( 0  skipped);  0  solutions outside of margin  1.00000000000000e-15\n",
      "Ran  10000  tests for polynomials of degree  6 ( 0  skipped);  5  solutions outside of margin  1.00000000000000e-15\n",
      "Ran  10000  tests for polynomials of degree  7 ( 0  skipped);  18  solutions outside of margin  1.00000000000000e-15\n",
      "Ran  10000  tests for polynomials of degree  8 ( 0  skipped);  32  solutions outside of margin  1.00000000000000e-15\n",
      "Ran  10000  tests for polynomials of degree  9 ( 0  skipped);  69  solutions outside of margin  1.00000000000000e-15\n",
      "Ran  10000  tests for polynomials of degree  10 ( 0  skipped);  95  solutions outside of margin  1.00000000000000e-15\n"
     ]
    }
   ],
   "source": [
    "func = companion_solve\n",
    "multitest_solve(func, 2)\n",
    "multitest_solve(func, 3)\n",
    "multitest_solve(func, 4)\n",
    "multitest_solve(func, 5)\n",
    "multitest_solve(func, 6)\n",
    "multitest_solve(func, 7)\n",
    "multitest_solve(func, 8)\n",
    "multitest_solve(func, 9)\n",
    "multitest_solve(func, 10)"
   ]
  },
  {
   "cell_type": "markdown",
   "id": "suitable-peeing",
   "metadata": {},
   "source": [
    "# Solve using Durand-Kerner"
   ]
  },
  {
   "cell_type": "code",
   "execution_count": 2,
   "id": "norman-dubai",
   "metadata": {},
   "outputs": [],
   "source": [
    "def dk_solve(poly, guesses, datafile, ring=RDF, iterations=1000, eqmargin=1e-15):\n",
    "    tosolve = monicize(poly, ring)\n",
    "    prev = guesses\n",
    "    results = guesses\n",
    "    o = open(datafile, 'w')\n",
    "    o.write(str(prev) + '\\n')\n",
    "    for _ in range(iterations):\n",
    "        for (ind, val) in enumerate(prev):\n",
    "            diff = tosolve(val)\n",
    "            num = prod([ 1 if abs(val - elem) <= eqmargin else (val - elem) for elem in prev ])\n",
    "            results[ind] = val - diff / num\n",
    "        prev = results\n",
    "        o.write(str(prev) + '\\n')\n",
    "    o.close()\n",
    "    return results\n",
    "\n",
    "def getdelta(val, sol):\n",
    "    s1 = sorted(val)\n",
    "    s2 = sorted(sol)\n",
    "    return sum([ abs(s1[i] - s2[i]) for i in range(len(s1)) ])\n",
    "\n",
    "def dk_conv(poly, guesses, solutions, ring=RDF, maxoffset = 1e-5, maxit=10000, verbose=False, eqmargin=1e-15):\n",
    "    tosolve = monicize(poly, ring)\n",
    "    prev = guesses\n",
    "    results = [ 0 for val in guesses ]\n",
    "    it = 0\n",
    "    offset = getdelta(prev, solutions)\n",
    "    while(offset > maxoffset and it < maxit):\n",
    "        if(verbose):\n",
    "            print(\"Iteration \" + str(it) + \" -> delta \" + str(offset) + \", values: \", prev)\n",
    "            \n",
    "        for(ind, val) in enumerate(prev):\n",
    "            diff = tosolve(val)\n",
    "            num = prod([ 1 if abs(val - elem) <= eqmargin else (val - elem) for elem in prev ])\n",
    "            results[ind] = val - diff / num\n",
    "        prev = results\n",
    "        it = it + 1\n",
    "        offset = getdelta(prev, solutions)\n",
    "        \n",
    "        for val in prev:\n",
    "            if val == +Infinity or val == -Infinity:\n",
    "                print(\"One or more values are infinite: \", prev)\n",
    "                return -Infinity\n",
    "    print(\"Delta: \", offset, \" - values \", results, \"; solutions: \", solutions, \"; guesses\", guesses)\n",
    "    return it\n",
    "\n",
    "def get_conv(poly, sol, maxit=10000, ring=RDF, times=25, maxoffset=1e-5):\n",
    "    diff = 0.01\n",
    "    res = dict()\n",
    "    res[0.0] = dk_conv(poly, sol, sol, ring, maxoffset, maxit)\n",
    "    for _ in range(times):\n",
    "        res[diff] = dk_conv(poly, [s + diff for s in sol], sol, ring, maxoffset, maxit)\n",
    "        res[-diff] = dk_conv(poly, [s - diff for s in sol], sol, ring, maxoffset, maxit)\n",
    "        diff = diff * 3\n",
    "    return [ (str(k) + \",\" + str(v)) for k, v in res.items() ]"
   ]
  },
  {
   "cell_type": "code",
   "execution_count": 144,
   "id": "respiratory-soccer",
   "metadata": {},
   "outputs": [
    {
     "name": "stdout",
     "output_type": "stream",
     "text": [
      "[1, 0, -3, -5]\n",
      "[-2.92566849739465, -893.3724060428259, -4.99706577452209, 1.00002830822132]\n",
      "[0, 3, 3]\n",
      "[-999.985003686825, 3.00171952946227, 2.99819980104428]\n",
      "[1j, (3+1j)]\n",
      "[-1.241770704463247e-17 + 1.0*I, 3.0 + 1.0*I]\n",
      "[(3+0j), -1j, (-2+1j)]\n",
      "[3.0 + 1.1470314929087035e-17*I, 3.569780320661601e-17 - 1.0*I, -2.0 + 1.0*I]\n",
      "[0j, 2j]\n",
      "[0.012221425586948463 + 2.0139310969716084*I, -996.8311964179067 - 5.705160237434776*I]\n"
     ]
    }
   ],
   "source": [
    "R.<x> = RDF[]\n",
    "C.<x> = CDF[]\n",
    "\n",
    "poly = R([ 0, -30, 14, 14, 2 ])\n",
    "print([ 1, 0, -3, -5 ])\n",
    "print(dk_solve(poly, [ 1.01, 0, -4.95, 0.05 ], '/home/jay/data1.dt'))\n",
    "\n",
    "poly2 = R([ 0, 18, -12, 2 ])\n",
    "print([ 0, 3, 3 ])\n",
    "print(dk_solve(poly2, [ 0.05, 3.02, 2.95 ], '/home/jay/data2.dt'))\n",
    "\n",
    "poly3 = C([ complex(-1, 3), complex(-3, -2), complex(1, 0) ])\n",
    "print([ complex(0, 1), complex(3, 1) ])\n",
    "print(dk_solve(poly3, [ complex(0.05, 0.95), complex(2.95, 1.05) ], '/home/jay/data3.dt', ring=CDF))\n",
    "\n",
    "poly4 = C([ complex(-3, -6), complex(-5, 2), complex(-1, 0), complex(1, 0) ])\n",
    "print([ complex(3, 0), complex(0, -1), complex(-2, 1) ])\n",
    "print(dk_solve(poly4, [ complex(2.95, 0.05), complex(0.05, -0.95), complex(-2.05, 1.05) ], '/home/jay/data4.dt', ring=CDF))\n",
    "\n",
    "poly5 = C([ complex(0,0), complex(0, -4), complex(2) ])\n",
    "print([ complex(0,0), complex(0, 2) ])\n",
    "print(dk_solve(poly5, [ complex(0.05, -0.95), complex(0.06, -2.06) ], '/home/jay/data5.dt', ring=CDF))"
   ]
  },
  {
   "cell_type": "code",
   "execution_count": 4,
   "id": "empty-router",
   "metadata": {},
   "outputs": [
    {
     "data": {
      "text/plain": [
       "[-999.857963505816, 1.00004558378482]"
      ]
     },
     "execution_count": 4,
     "metadata": {},
     "output_type": "execute_result"
    }
   ],
   "source": [
    "R.<x> = RealField(100)[]\n",
    "poly6 = R([ 4, -4, 1 ])\n",
    "#print(dk_conv(poly6, [2.01, 1.99], [2,2]))\n",
    "#print('\\n'.join(get_conv(poly6, [2], maxit=10000)))\n",
    "#dk_conv(poly6, [2.01], [2], verbose=True)\n",
    "\n",
    "# 2x (x - 1) = 2x^2 - 2x (nulw 0, 1)\n",
    "poly7 = R([ 0, -2, 2 ])\n",
    "dk_solve(poly7, [0.06, 1.05], '/home/jay/data6.dt')"
   ]
  },
  {
   "cell_type": "code",
   "execution_count": 5,
   "id": "approximate-boating",
   "metadata": {},
   "outputs": [
    {
     "data": {
      "text/plain": [
       "[-0.9999999999999968,\n",
       " -0.948751994863436,\n",
       " 0.5826363152521024,\n",
       " -0.9620918338030318 - 0.582128813897095*I,\n",
       " -0.9620918338030318 + 0.582128813897095*I,\n",
       " -0.6022263246993278 - 0.9712081890768428*I,\n",
       " -0.6022263246993278 + 0.9712081890768428*I,\n",
       " -0.09797725912850641 - 1.1154611601910962*I,\n",
       " -0.09797725912850641 + 1.1154611601910962*I,\n",
       " 0.3846518587981315 - 0.9731715694497886*I,\n",
       " 0.3846518587981315 + 0.9731715694497886*I,\n",
       " 0.6017781550745605 - 0.6810277283737336*I,\n",
       " 0.6017781550745605 + 0.6810277283737336*I,\n",
       " 0.8589232435638375 - 0.4778106987964646*I,\n",
       " 0.8589232435638375 + 0.4778106987964646*I]"
      ]
     },
     "execution_count": 5,
     "metadata": {},
     "output_type": "execute_result"
    }
   ],
   "source": [
    "R.<x> = RDF[]\n",
    "R([ -1,1,1,-1,1,1,1,1,1,1,1,1,1,1,1,1 ]).roots(ring=CDF,multiplicities=False)"
   ]
  },
  {
   "cell_type": "code",
   "execution_count": null,
   "id": "practical-parking",
   "metadata": {},
   "outputs": [],
   "source": []
  },
  {
   "cell_type": "code",
   "execution_count": null,
   "id": "demanding-handbook",
   "metadata": {},
   "outputs": [],
   "source": []
  }
 ],
 "metadata": {
  "kernelspec": {
   "display_name": "SageMath 9.4",
   "language": "sage",
   "name": "sagemath"
  },
  "language_info": {
   "codemirror_mode": {
    "name": "ipython",
    "version": 3
   },
   "file_extension": ".py",
   "mimetype": "text/x-python",
   "name": "python",
   "nbconvert_exporter": "python",
   "pygments_lexer": "ipython3",
   "version": "3.9.7"
  }
 },
 "nbformat": 4,
 "nbformat_minor": 5
}
